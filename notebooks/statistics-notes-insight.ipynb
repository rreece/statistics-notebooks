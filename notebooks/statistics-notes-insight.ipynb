{
 "cells": [
  {
   "cell_type": "markdown",
   "metadata": {},
   "source": [
    "# statistics notes\n",
    "\n",
    "Ryan Reece <ryan@cerebras.net>        \n",
    "created: 2018-10-25"
   ]
  },
  {
   "cell_type": "code",
   "execution_count": 1,
   "metadata": {},
   "outputs": [],
   "source": [
    "import math\n",
    "import numpy as np\n",
    "from scipy import stats"
   ]
  },
  {
   "cell_type": "markdown",
   "metadata": {},
   "source": [
    "## What is &chi;2?\n",
    "\n",
    "$$\n",
    "\\chi^2 = \\sum_i \\frac{(x_i -\\mu_i)^2}{\\sigma_i}\n",
    "$$"
   ]
  },
  {
   "cell_type": "markdown",
   "metadata": {},
   "source": [
    "## A/B testing example I worked at Insight\n",
    "\n",
    "This example is taken from [here](https://github.com/rreece/insight-workarea/blob/master/data-challenges/a-b-testing/confidence-intervals-and-a-b-testing.ipynb)."
   ]
  },
  {
   "cell_type": "code",
   "execution_count": 2,
   "metadata": {},
   "outputs": [
    {
     "name": "stdout",
     "output_type": "stream",
     "text": [
      "chi2 = 1.1581\n",
      "p    = 0.28186\n",
      "dof  = 1\n",
      "expected = [[980.63178484  38.36821516]\n",
      " [987.36821516  38.63178484]]\n"
     ]
    }
   ],
   "source": [
    "N_A1 = 976.  # not converted, sample A\n",
    "N_A2 =  43.  # converted, sample A\n",
    "N_B1 = 992.  # not converted, sample B\n",
    "N_B2 =  34.  # converted, sample B\n",
    "\n",
    "obs = [[N_A1, N_A2], [N_B1, N_B2]]\n",
    "chi2, p, dof, ex = stats.chi2_contingency(obs, correction=False)\n",
    "print('chi2 = %.5g' % (chi2))\n",
    "print('p    = %.5g' % (p))\n",
    "print('dof  = %.5g' % (dof))\n",
    "print('expected = %s' % (ex))"
   ]
  },
  {
   "cell_type": "code",
   "execution_count": 3,
   "metadata": {},
   "outputs": [
    {
     "name": "stdout",
     "output_type": "stream",
     "text": [
      "chi2 = 1.1581\n"
     ]
    }
   ],
   "source": [
    "#______________________________________________________________________________\n",
    "def a_b_test_chi2(N_A1, N_A2, N_B1, N_B2):\n",
    "    N_A = N_A1 + N_A2\n",
    "    N_B = N_B1 + N_B2\n",
    "    N_1 = N_A1 + N_B1\n",
    "    N_2 = N_A2 + N_B2\n",
    "    rho = N_2/(N_1+N_2)\n",
    "    chi2 = ((N_A1 - N_A*(1-rho))**2)/(N_A*(1-rho)) + \\\n",
    "           ((N_A2 - N_A*rho)**2)/(N_A*rho) + \\\n",
    "           ((N_B1 - N_B*(1-rho))**2)/(N_B*(1-rho)) + \\\n",
    "           ((N_B2 - N_B*rho)**2)/(N_B*rho)\n",
    "    ## checking the chi2 term-by-term:\n",
    "    #print '%.5g' % (((N_A1 - N_A*(1-rho))**2)/(N_A*(1-rho)))\n",
    "    #print '%.5g' % (((N_A2 - N_A*rho)**2)/(N_A*rho))\n",
    "    #print '%.5g' % (((N_B1 - N_B*(1-rho))**2)/(N_B*(1-rho)))\n",
    "    #print '%.5g' % (((N_B2 - N_B*rho)**2)/(N_B*rho))\n",
    "    return chi2\n",
    "        \n",
    "chi2 = a_b_test_chi2(N_A1, N_A2, N_B1, N_B2)\n",
    "print('chi2 = %.5g' % (chi2))"
   ]
  },
  {
   "cell_type": "markdown",
   "metadata": {},
   "source": [
    "## scipy.stats\n",
    "\n",
    "Trying [`scipy.stats.chisquare`](https://docs.scipy.org/doc/scipy/reference/generated/scipy.stats.chisquare.html) and [`scipy.stats.chi2_contingency`](https://docs.scipy.org/doc/scipy/reference/generated/scipy.stats.chi2_contingency.html)."
   ]
  },
  {
   "cell_type": "code",
   "execution_count": 4,
   "metadata": {},
   "outputs": [
    {
     "name": "stdout",
     "output_type": "stream",
     "text": [
      "chi2 = 2.6404\n",
      "p    = 0.10418\n"
     ]
    }
   ],
   "source": [
    "chi2, p = stats.chisquare([N_A1, N_A2], [N_B1, N_B2], ddof=0)\n",
    "print('chi2 = %.5g' % (chi2))\n",
    "print('p    = %.5g' % (p))"
   ]
  },
  {
   "cell_type": "code",
   "execution_count": 5,
   "metadata": {},
   "outputs": [],
   "source": [
    "def my_chi2(xs, ms, ss=None):\n",
    "    assert isinstance(xs, list)\n",
    "    assert isinstance(ms, list)\n",
    "    assert len(xs) == len(ms)\n",
    "    if ss is None:\n",
    "        ss = [ math.sqrt(m) for m in ms ]\n",
    "    assert isinstance(ss, list)\n",
    "    chi2 = sum([ (x-m)*(x-m)/(s*s) for x, m, s in zip(xs, ms, ss) ])\n",
    "    return chi2"
   ]
  },
  {
   "cell_type": "code",
   "execution_count": 6,
   "metadata": {},
   "outputs": [
    {
     "name": "stdout",
     "output_type": "stream",
     "text": [
      "chi2 = 2.6404\n"
     ]
    }
   ],
   "source": [
    "chi2 = my_chi2([N_A1, N_A2], [N_B1, N_B2])\n",
    "print('chi2 = %.5g' % (chi2))"
   ]
  },
  {
   "cell_type": "markdown",
   "metadata": {},
   "source": [
    "Note that `stats.chi2_contingency` gives a different $\\chi^2$.  This is because it calculates $\\mu_i$, the expected shape in each bin, from the combined data of the two given distributions (instead of taking the later one directly as $\\mu_i$)."
   ]
  },
  {
   "cell_type": "code",
   "execution_count": 9,
   "metadata": {},
   "outputs": [],
   "source": [
    "obs = np.array([[N_A1, N_A2], [N_B1, N_B2]])"
   ]
  },
  {
   "cell_type": "code",
   "execution_count": 11,
   "metadata": {},
   "outputs": [
    {
     "name": "stdout",
     "output_type": "stream",
     "text": [
      "chi2 = 1.1581\n",
      "p    = 0.28186\n",
      "dof  = 1\n",
      "expected = [[980.63178484  38.36821516]\n",
      " [987.36821516  38.63178484]]\n"
     ]
    }
   ],
   "source": [
    "chi2, p, dof, ex = stats.chi2_contingency(obs, correction=False)\n",
    "print('chi2 = %.5g' % (chi2))\n",
    "print('p    = %.5g' % (p))\n",
    "print('dof  = %.5g' % (dof))\n",
    "print('expected = %s' % (ex))"
   ]
  },
  {
   "cell_type": "code",
   "execution_count": 19,
   "metadata": {},
   "outputs": [],
   "source": [
    "def my_chi2b(xs, ms, ss=None):\n",
    "    assert isinstance(xs, list)\n",
    "    assert isinstance(ms, list)\n",
    "    assert len(xs) == len(ms)\n",
    "    nx = sum(xs)\n",
    "    nm = sum(ms)\n",
    "    n = nm + nx\n",
    "    es1  = [ nx*(x+m)/n for x, m in zip(xs, ms) ]\n",
    "    es2  = [ nm*(x+m)/n for x, m in zip(xs, ms) ]\n",
    "    es = list(es1)\n",
    "    es.extend(es2)\n",
    "    bs = list(xs)\n",
    "    bs.extend(ms)\n",
    "    if ss is None:\n",
    "        ss = [ math.sqrt(m) for m in es ]\n",
    "    assert isinstance(ss, list)\n",
    "    chi2 = sum([ (x-m)*(x-m)/(s*s) for x, m, s in zip(bs, es, ss) ])\n",
    "    p = 0 # TODO\n",
    "    dof = len(xs) - 1\n",
    "    ex = es # HACK\n",
    "    return chi2, p, dof, ex"
   ]
  },
  {
   "cell_type": "code",
   "execution_count": 20,
   "metadata": {},
   "outputs": [
    {
     "name": "stdout",
     "output_type": "stream",
     "text": [
      "chi2 = 1.1581\n",
      "p    = 0\n",
      "dof  = 1\n",
      "expected = [980.6317848410758, 38.36821515892421, 987.3682151589242, 38.63178484107579]\n"
     ]
    }
   ],
   "source": [
    "chi2, p, dof, ex = my_chi2b([N_A1, N_A2], [N_B1, N_B2])\n",
    "print('chi2 = %.5g' % (chi2))\n",
    "print('p    = %.5g' % (p))\n",
    "print('dof  = %.5g' % (dof))\n",
    "print('expected = %s' % (ex))"
   ]
  },
  {
   "cell_type": "code",
   "execution_count": null,
   "metadata": {},
   "outputs": [],
   "source": []
  },
  {
   "cell_type": "code",
   "execution_count": null,
   "metadata": {},
   "outputs": [],
   "source": []
  },
  {
   "cell_type": "code",
   "execution_count": null,
   "metadata": {},
   "outputs": [],
   "source": []
  },
  {
   "cell_type": "code",
   "execution_count": 22,
   "metadata": {},
   "outputs": [
    {
     "name": "stdout",
     "output_type": "stream",
     "text": [
      "chi2 = 0.45091\n",
      "p    = 0.5019\n"
     ]
    }
   ],
   "source": [
    "chi2, p = stats.chisquare([12, 22], [11, 25])\n",
    "print('chi2 = %.5g' % (chi2))\n",
    "print('p    = %.5g' % (p))"
   ]
  },
  {
   "cell_type": "code",
   "execution_count": 23,
   "metadata": {},
   "outputs": [
    {
     "name": "stdout",
     "output_type": "stream",
     "text": [
      "chi2 = 206.76\n",
      "p    = 6.9947e-47\n"
     ]
    }
   ],
   "source": [
    "chi2, p = stats.chisquare([12, 22], [25, 2])\n",
    "print('chi2 = %.5g' % (chi2))\n",
    "print('p    = %.5g' % (p))"
   ]
  },
  {
   "cell_type": "markdown",
   "metadata": {},
   "source": [
    "## See also\n",
    "\n",
    "-   [en.wikipedia.org/wiki/Chi-squared_test](https://en.wikipedia.org/wiki/Chi-squared_test)\n",
    "-   [en.wikipedia.org/wiki/Chi-squared_distribution](https://en.wikipedia.org/wiki/Chi-squared_distribution)\n",
    "-   [physics.ucsc.edu/~drip/133/ch4.pdf](http://physics.ucsc.edu/~drip/133/ch4.pdf)\n",
    "-   [scipy.stats.chisquare](https://docs.scipy.org/doc/scipy/reference/generated/scipy.stats.chisquare.html)\n",
    "-   [scipy.stats.chi2_contingency](https://docs.scipy.org/doc/scipy/reference/generated/scipy.stats.chi2_contingency.html)\n",
    "-   [home.ubalt.edu/ntsbarsh/Business-stat/StatistialTables.pdf](https://home.ubalt.edu/ntsbarsh/Business-stat/StatistialTables.pdf)"
   ]
  }
 ],
 "metadata": {
  "kernelspec": {
   "display_name": "Python 3 (ipykernel)",
   "language": "python",
   "name": "python3"
  },
  "language_info": {
   "codemirror_mode": {
    "name": "ipython",
    "version": 3
   },
   "file_extension": ".py",
   "mimetype": "text/x-python",
   "name": "python",
   "nbconvert_exporter": "python",
   "pygments_lexer": "ipython3",
   "version": "3.8.13"
  }
 },
 "nbformat": 4,
 "nbformat_minor": 2
}
