{
 "cells": [
  {
   "cell_type": "markdown",
   "metadata": {},
   "source": [
    "# pyhf hello world 2\n",
    "\n",
    "Ryan Reece <https://github.com/rreece>        \n",
    "created: 2019-03-03"
   ]
  },
  {
   "cell_type": "markdown",
   "metadata": {},
   "source": [
    "## 2-bin example\n",
    "\n",
    "Following: <https://scikit-hep.org/pyhf/examples/notebooks/binderexample/StatisticalAnalysis.html>"
   ]
  },
  {
   "cell_type": "code",
   "execution_count": 1,
   "metadata": {},
   "outputs": [],
   "source": [
    "import numpy as np\n",
    "import matplotlib.pyplot as plt\n",
    "import mplhep as hep\n",
    "import pyhf\n",
    "import math"
   ]
  },
  {
   "cell_type": "code",
   "execution_count": 2,
   "metadata": {},
   "outputs": [],
   "source": [
    "pdf = pyhf.simplemodels.hepdata_like(signal_data=[12.0, 11.0], bkg_data=[50.0, 52.0], bkg_uncerts=[3.0, 7.0])\n"
   ]
  },
  {
   "cell_type": "code",
   "execution_count": 3,
   "metadata": {},
   "outputs": [
    {
     "data": {
      "text/plain": [
       "[277.77777777777777, 55.183673469387756]"
      ]
     },
     "execution_count": 3,
     "metadata": {},
     "output_type": "execute_result"
    }
   ],
   "source": [
    "pdf.config.auxdata"
   ]
  },
  {
   "cell_type": "code",
   "execution_count": 4,
   "metadata": {},
   "outputs": [
    {
     "name": "stdout",
     "output_type": "stream",
     "text": [
      "Observed CLs         : 0.0529\n",
      "\n",
      "Expected CLs -2 sigma: 0.0026\n",
      "Expected CLs -1 sigma: 0.0138\n",
      "Expected CLs         : 0.0645\n",
      "Expected CLs +1 sigma: 0.2353\n",
      "Expected CLs +2 sigma: 0.5730\n"
     ]
    }
   ],
   "source": [
    "CLs_obs, CLs_exp_band = pyhf.infer.hypotest(1.0, [51, 48] + pdf.config.auxdata, pdf, return_expected_set=True)\n",
    "print('Observed CLs         : %.4f' % (CLs_obs))\n",
    "print('')\n",
    "print('Expected CLs -2 sigma: %.4f' % (CLs_exp_band[0]))\n",
    "print('Expected CLs -1 sigma: %.4f' % (CLs_exp_band[1]))\n",
    "print('Expected CLs         : %.4f' % (CLs_exp_band[2]))\n",
    "print('Expected CLs +1 sigma: %.4f' % (CLs_exp_band[3]))\n",
    "print('Expected CLs +2 sigma: %.4f' % (CLs_exp_band[4]))"
   ]
  },
  {
   "cell_type": "markdown",
   "metadata": {},
   "source": [
    "## n-bin example\n",
    "\n",
    "Following: <https://github.com/scikit-hep/pyhf/blob/master/tests/benchmarks/test_benchmark.py>"
   ]
  },
  {
   "cell_type": "code",
   "execution_count": 5,
   "metadata": {},
   "outputs": [],
   "source": [
    "def generate_source_static(n_bins):\n",
    "    \"\"\"\n",
    "    Create the source structure for the given number of bins.\n",
    "\n",
    "    Args:\n",
    "        n_bins: `list` of number of bins\n",
    "\n",
    "    Returns:\n",
    "        source\n",
    "    \"\"\"\n",
    "    binning = list(range(n_bins+1))\n",
    "    data = [120.0] * n_bins\n",
    "    bkg = [100.0] * n_bins\n",
    "    bkgerr = [10.0] * n_bins\n",
    "    sig = [30.0] * n_bins\n",
    "\n",
    "    source = {\n",
    "        'binning': binning,\n",
    "        'bindata': {'data': data, 'bkg': bkg, 'bkgerr': bkgerr, 'sig': sig},\n",
    "    }\n",
    "    return source\n",
    "\n",
    "\n",
    "def generate_source_poisson(n_bins):\n",
    "    \"\"\"\n",
    "    Create the source structure for the given number of bins.\n",
    "    Sample from a Poisson distribution\n",
    "\n",
    "    Args:\n",
    "        n_bins: `list` of number of bins\n",
    "\n",
    "    Returns:\n",
    "        source\n",
    "    \"\"\"\n",
    "    np.random.seed(0)  # Fix seed for reproducibility\n",
    "    binning = list(range(n_bins+1))\n",
    "    data = np.random.poisson(120.0, n_bins).tolist()\n",
    "    bkg = np.random.poisson(100.0, n_bins).tolist()\n",
    "    bkgerr = np.random.poisson(10.0, n_bins).tolist()\n",
    "    sig = np.random.poisson(30.0, n_bins).tolist()\n",
    "\n",
    "    source = {\n",
    "        'binning': binning,\n",
    "        'bindata': {'data': data, 'bkg': bkg, 'bkgerr': bkgerr, 'sig': sig},\n",
    "    }\n",
    "    return source\n",
    "\n",
    "\n",
    "def hypotest(pdf, data):\n",
    "    return pyhf.infer.hypotest(\n",
    "        1.0,\n",
    "        data,\n",
    "        pdf,\n",
    "        pdf.config.suggested_init(),\n",
    "        pdf.config.suggested_bounds(),\n",
    "        return_tail_probs=True,\n",
    "        return_expected=True,\n",
    "        return_expected_set=True,\n",
    "        return_test_statistics=True,\n",
    "    )"
   ]
  },
  {
   "cell_type": "code",
   "execution_count": 6,
   "metadata": {},
   "outputs": [],
   "source": [
    "n_bins = 3\n",
    "source = generate_source_poisson(n_bins)\n",
    "pdf = pyhf.simplemodels.hepdata_like(source['bindata']['sig'], \n",
    "                                     source['bindata']['bkg'], \n",
    "                                     source['bindata']['bkgerr'])\n",
    "data = source['bindata']['data'] + pdf.config.auxdata"
   ]
  },
  {
   "cell_type": "code",
   "execution_count": 7,
   "metadata": {},
   "outputs": [
    {
     "data": {
      "text/plain": [
       "4"
      ]
     },
     "execution_count": 7,
     "metadata": {},
     "output_type": "execute_result"
    }
   ],
   "source": [
    "results = hypotest(pdf, data)\n",
    "len(results)"
   ]
  },
  {
   "cell_type": "code",
   "execution_count": 8,
   "metadata": {},
   "outputs": [
    {
     "data": {
      "text/plain": [
       "(array([0.01496651]),\n",
       " [array([0.01388749]), array([0.92790496])],\n",
       " array([0.00025142]),\n",
       " array([[3.31111922e-07],\n",
       "        [9.92597178e-06],\n",
       "        [2.51415394e-04],\n",
       "        [4.63258639e-03],\n",
       "        [4.95015888e-02]]))"
      ]
     },
     "execution_count": 8,
     "metadata": {},
     "output_type": "execute_result"
    }
   ],
   "source": [
    "results"
   ]
  },
  {
   "cell_type": "code",
   "execution_count": 9,
   "metadata": {},
   "outputs": [
    {
     "data": {
      "text/plain": [
       "[26, 29, 32]"
      ]
     },
     "execution_count": 9,
     "metadata": {},
     "output_type": "execute_result"
    }
   ],
   "source": [
    "source['bindata']['sig']"
   ]
  },
  {
   "cell_type": "code",
   "execution_count": 10,
   "metadata": {},
   "outputs": [
    {
     "data": {
      "text/plain": [
       "[98, 127, 109]"
      ]
     },
     "execution_count": 10,
     "metadata": {},
     "output_type": "execute_result"
    }
   ],
   "source": [
    "source['bindata']['bkg']"
   ]
  },
  {
   "cell_type": "code",
   "execution_count": 11,
   "metadata": {},
   "outputs": [
    {
     "data": {
      "text/plain": [
       "[4, 10, 10]"
      ]
     },
     "execution_count": 11,
     "metadata": {},
     "output_type": "execute_result"
    }
   ],
   "source": [
    "source['bindata']['bkgerr']"
   ]
  },
  {
   "cell_type": "code",
   "execution_count": 12,
   "metadata": {},
   "outputs": [
    {
     "data": {
      "text/plain": [
       "[0, 1, 2, 3]"
      ]
     },
     "execution_count": 12,
     "metadata": {},
     "output_type": "execute_result"
    }
   ],
   "source": [
    "source['binning']"
   ]
  },
  {
   "cell_type": "code",
   "execution_count": 13,
   "metadata": {},
   "outputs": [],
   "source": [
    "#plt.style.use(hep.style.ATLAS)\n",
    "plt.style.use([hep.style.CMS, hep.style.firamath])"
   ]
  },
  {
   "cell_type": "code",
   "execution_count": 14,
   "metadata": {},
   "outputs": [
    {
     "data": {
      "text/plain": [
       "<matplotlib.axes._subplots.AxesSubplot at 0x1163b0198>"
      ]
     },
     "execution_count": 14,
     "metadata": {},
     "output_type": "execute_result"
    },
    {
     "data": {
      "image/png": "[encoded data removed]",
      "text/plain": [
       "<Figure size 720x720 with 1 Axes>"
      ]
     },
     "metadata": {
      "needs_background": "light"
     },
     "output_type": "display_data"
    }
   ],
   "source": [
    "hep.histplot(source['bindata']['bkg'], source['binning'])"
   ]
  },
  {
   "cell_type": "code",
   "execution_count": 15,
   "metadata": {},
   "outputs": [
    {
     "data": {
      "image/png": "[encoded data removed]",
      "text/plain": [
       "<Figure size 720x720 with 1 Axes>"
      ]
     },
     "metadata": {
      "needs_background": "light"
     },
     "output_type": "display_data"
    }
   ],
   "source": [
    "axs = hep.histplot(source['bindata']['bkg'], source['binning'], yerr=source['bindata']['bkgerr'])"
   ]
  },
  {
   "cell_type": "markdown",
   "metadata": {},
   "source": [
    "## See also\n",
    "\n",
    "-   <https://scikit-hep.org/pyhf/>\n",
    "-   Cowan, G. et al. (2010). Asymptotic formulae for likelihood-based tests of new physics. https://arxiv.org/abs/1007.1727\n",
    "-   Cranmer, K. et al. (2012). HistFactory: A tool for creating statistical models for use with RooFit and RooStats. CERN-OPEN-2012-016. <https://cds.cern.ch/record/1456844>\n",
    "-   Feickert, M. (2018). pyhf: a pure Python implementation of HistFactory with tensors and autograd. <https://indico.cern.ch/event/759480/>"
   ]
  },
  {
   "cell_type": "code",
   "execution_count": null,
   "metadata": {},
   "outputs": [],
   "source": []
  }
 ],
 "metadata": {
  "kernelspec": {
   "display_name": "Python 3",
   "language": "python",
   "name": "python3"
  },
  "language_info": {
   "codemirror_mode": {
    "name": "ipython",
    "version": 3
   },
   "file_extension": ".py",
   "mimetype": "text/x-python",
   "name": "python",
   "nbconvert_exporter": "python",
   "pygments_lexer": "ipython3",
   "version": "3.8.5"
  }
 },
 "nbformat": 4,
 "nbformat_minor": 2
}
